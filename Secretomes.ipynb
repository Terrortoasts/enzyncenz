{
 "cells": [
  {
   "cell_type": "code",
   "execution_count": 1,
   "id": "4fa13cf3-90dc-4976-827d-397b3ab20d01",
   "metadata": {},
   "outputs": [],
   "source": [
    "from Bio.Seq import Seq\n",
    "from Bio.Data import CodonTable\n",
    "from Bio.SeqUtils import six_frame_translations\n",
    "from Bio import SeqIO\n",
    "from Bio.SeqFeature import SeqFeature, FeatureLocation\n",
    "from Bio.SeqRecord import SeqRecord\n",
    "import os\n",
    "\n",
    "# Define the path to the input FASTA file\n",
    "\n",
    "dir_r = \"./data/raw/\"\n",
    "dir_r_cds =\"./data/raw/CDS\"\n",
    "dir_r_aa = \"./data/raw/AA\"\n",
    "dir_p = \"./data/processed/\"\n",
    "dir_f = \"./data/final/\"\n",
    "\n",
    "\n"
   ]
  },
  {
   "cell_type": "code",
   "execution_count": 12,
   "id": "8993370f-42da-4592-89de-0f094d3a84cb",
   "metadata": {},
   "outputs": [],
   "source": [
    "import csv\n",
    "import pandas as pd \n",
    "import re\n",
    "\n",
    "secretome_acc = os.path.join(dir_r,\"secretome_acc.csv\")\n",
    "\n",
    "# Read the sequence names from the secretome CSV file\n",
    "sequence_names_locus = []\n",
    "with open(secretome_acc, \"r\") as file:\n",
    "    csv_reader = csv.reader(file)\n",
    "    for row in csv_reader:\n",
    "        # Extract the locus tag using a regular expression\n",
    "        match = re.match(r'^([^\\-]+)', row[0])\n",
    "        locus_tag = match.group(1) if match else None\n",
    "        if locus_tag:\n",
    "            sequence_names_locus.append(locus_tag)\n",
    "        "
   ]
  },
  {
   "cell_type": "code",
   "execution_count": 14,
   "id": "ac86a1a2-0f55-4999-9c6e-34dc191f905c",
   "metadata": {},
   "outputs": [],
   "source": [
    "#First, extract locus tag from all CDS in Oryzae, then match those with the ones in the secretome and add to new fasta file\n",
    "\n",
    "\n",
    "def extract_locus_tag_from_header(header):\n",
    "    match = re.search(r'\\[locus_tag=([^\\]]+)]', header)\n",
    "    return match.group(1) if match else None\n",
    "\n",
    "secret_hits_cds = os.path.join(dir_p,\"secret_hits_dna.fasta\")\n",
    "secret_hits_aa = os.path.join(dir_p,\"secret_hits_aa.fasta\")\n",
    "                            \n",
    "# Extract sequences from the FASTA file for DNA\n",
    "cds_fasta = os.path.join(dir_r_cds, \"aoryz_cds.fna\")\n",
    "sequences = []\n",
    "with open(cds_fasta, \"r\") as file:\n",
    "    fasta_data = file.read().split(\">\")[1:]\n",
    "    for entry in fasta_data:\n",
    "        entry_lines = entry.strip().split(\"\\n\")\n",
    "        header = entry_lines[0]\n",
    "        sequence = \"\".join(entry_lines[1:])\n",
    "        sequence_name_locus = extract_locus_tag_from_header(header)\n",
    "        if sequence_name_locus in sequence_names_locus:\n",
    "            sequences.append(f\">{header}\\n{sequence}\")\n",
    "\n",
    "# Save the extracted AA sequences to a new FASTA file\n",
    "with open(secret_hits_cds, \"w\") as file:\n",
    "    file.write(\"\\n\".join(sequences))\n",
    "\n",
    "#Take new CDS fasta file of all secretome hits and extract protein sequence from NCBI database\n",
    "            \n",
    "def extract_protein_id_from_header(header):\n",
    "    match = re.search(r'\\[protein_id=([^\\]]+)]', header)\n",
    "    return match.group(1) if match else None\n",
    "\n",
    "# Extract sequences from the FASTA file for Translated Proteins\n",
    "output_fa_file = os.path.join(dir_r_aa, \"aoryz_aa.faa\")\n",
    "sequences_AA = []\n",
    "with open(output_fa_file, \"r\") as file:\n",
    "    fasta_data = file.read().split(\">\")[1:]\n",
    "    for entry in fasta_data:\n",
    "        entry_lines = entry.strip().split(\"\\n\")\n",
    "        header = entry_lines[0]\n",
    "        sequence = \"\".join(entry_lines[1:])\n",
    "        sequence_name_protein = extract_protein_id_from_header(header)\n",
    "        if sequence_name_protein  in sequence_names_protein :\n",
    "            sequences_AA.append(f\">{header}\\n{sequence}\")\n",
    "\n",
    "# Save the extracted AA sequences to a new FASTA file\n",
    "with open(secret_hits_aa, \"w\") as file:\n",
    "    file.write(\"\\n\".join(sequences_AA))"
   ]
  },
  {
   "cell_type": "code",
   "execution_count": 15,
   "id": "92379346-b6e1-4ef4-bedf-7b1f8ee71cf3",
   "metadata": {},
   "outputs": [
    {
     "data": {
      "text/plain": [
       "[]"
      ]
     },
     "execution_count": 15,
     "metadata": {},
     "output_type": "execute_result"
    }
   ],
   "source": [
    "sequences_AA"
   ]
  },
  {
   "cell_type": "code",
   "execution_count": null,
   "id": "541809de-bc78-4d25-99a7-1be9b86b4462",
   "metadata": {},
   "outputs": [],
   "source": [
    "# Extract sequences from the FASTA file for Translated Proteins\n",
    "output_fa_file = os.path.join(dir_r_aa, \"aoryz_aa.faa\")\n",
    "sequences_AA = []\n",
    "with open(output_fa_file, \"r\") as file:\n",
    "    fasta_data = file.read().split(\">\")[1:]\n",
    "    for entry in fasta_data:\n",
    "        entry_lines = entry.strip().split(\"\\n\")\n",
    "        header = entry_lines[0]\n",
    "        sequence = \"\".join(entry_lines[1:])\n",
    "        sequence_name = header.split()[0]\n",
    "        if sequence_name in sequence_names:\n",
    "            sequences_AA.append(f\">{header}\\n{sequence}\")\n",
    "\n",
    "# Save the extracted AA sequences to a new FASTA file\n",
    "with open(cds_hits_aa, \"w\") as file:\n",
    "    file.write(\"\\n\".join(sequences_AA))"
   ]
  },
  {
   "cell_type": "code",
   "execution_count": 18,
   "id": "d672898a",
   "metadata": {},
   "outputs": [],
   "source": [
    "#Abels Idiotic Niger Knockouts\n",
    "\n",
    "from Bio.Seq import Seq\n",
    "from Bio.Data import CodonTable\n",
    "from Bio.SeqUtils import six_frame_translations\n",
    "from Bio import SeqIO\n",
    "from Bio.SeqFeature import SeqFeature, FeatureLocation\n",
    "from Bio.SeqRecord import SeqRecord\n",
    "import os\n",
    "\n",
    "# Define the path to the input FASTA file\n",
    "\n",
    "dir_r = \"./data/raw/\"\n",
    "dir_r_cds =\"./data/raw/CDS\"\n",
    "dir_r_aa = \"./data/raw/AA\"\n",
    "dir_p = \"./data/processed/\"\n",
    "dir_f = \"./data/final/\"\n",
    "\n",
    "import subprocess\n",
    "\n",
    "# Defining HMM and target to analyse\n",
    "\n",
    "HMM = os.path.join(dir_p, \"Lipase.hmm\")\n",
    "#Target = os.path.join(dir_r_aa, \"anige_aa.faa\")\n",
    "Target = os.path.join(dir_r, \"combined_sequences_aa.fasta\")\n",
    "output_hits_file = os.path.join(dir_f, \"niger_lipases.csv\")\n",
    "\n",
    "\n",
    "command = ['hmmsearch', '-o', output_hits_file, HMM, Target]\n",
    "\n",
    "\n",
    "# run the command and capture the output\n",
    "process = subprocess.Popen(command, stdout=subprocess.PIPE, stderr=subprocess.PIPE)\n",
    "stdout, stderr = process.communicate()"
   ]
  },
  {
   "cell_type": "code",
   "execution_count": null,
   "id": "25f9eebf",
   "metadata": {},
   "outputs": [],
   "source": []
  }
 ],
 "metadata": {
  "kernelspec": {
   "display_name": "Python 3 (ipykernel)",
   "language": "python",
   "name": "python3"
  },
  "language_info": {
   "codemirror_mode": {
    "name": "ipython",
    "version": 3
   },
   "file_extension": ".py",
   "mimetype": "text/x-python",
   "name": "python",
   "nbconvert_exporter": "python",
   "pygments_lexer": "ipython3",
   "version": "3.10.12"
  }
 },
 "nbformat": 4,
 "nbformat_minor": 5
}
