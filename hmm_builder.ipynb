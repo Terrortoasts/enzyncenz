{
 "cells": [
  {
   "cell_type": "code",
   "execution_count": 1,
   "id": "674beeb1-6e6d-4344-aefc-c2d7120d4add",
   "metadata": {},
   "outputs": [],
   "source": [
    "#Ensure Clustal Omega (clustalo) is installed and is in the current path"
   ]
  },
  {
   "cell_type": "code",
   "execution_count": 1,
   "id": "64ee461b-899c-47f7-9bf4-d8367df6e725",
   "metadata": {},
   "outputs": [],
   "source": [
    "#Making an stockholm alignment using Clustalo\n",
    "  \n",
    "from Bio import SeqIO\n",
    "from Bio.Align import MultipleSeqAlignment\n",
    "from Bio.SeqRecord import SeqRecord\n",
    "import subprocess\n",
    "import os\n",
    "\n",
    "output_dir_p = \"./data/processed/\"\n"
   ]
  },
  {
   "cell_type": "code",
   "execution_count": 3,
   "id": "9d220780",
   "metadata": {},
   "outputs": [
    {
     "name": "stdout",
     "output_type": "stream",
     "text": [
      "Stockholm alignment generated successfully!\n"
     ]
    }
   ],
   "source": [
    "#DEFUNCT - CREATING STOCKHOLM ALIGNMENT IN JALVIEW INSTEAD\n",
    "# Path to input FASTA fileg\n",
    "fasta_file = \"./data/raw/Archived/IntAmidases.fasta\"\n",
    "\n",
    "# Read sequences from FASTA file\n",
    "sequences = SeqIO.to_dict(SeqIO.parse(fasta_file, \"fasta\"))\n",
    "\n",
    "# Create a list to store individual sequence alignments\n",
    "alignments = []\n",
    "\n",
    "# Perform pairwise alignment for each sequence\n",
    "for seq_id, seq_record in sequences.items():\n",
    "    # Append sequence to the alignment list\n",
    "    alignments.append(SeqRecord(seq_record.seq, id=seq_id))\n",
    "\n",
    "# Write the alignment to a temporary file\n",
    "\n",
    "temp_file = os.path.join(output_dir_p, \"temp.fasta\")\n",
    "SeqIO.write(alignments, temp_file, \"fasta\")\n",
    "\n",
    "# Perform multiple sequence alignment using Clustal Omega\n",
    "clustalo_cmd = f\"clustalo -i {temp_file} -o {os.path.join(output_dir_p, 'output.stockholm')} --outfmt stockholm --force\"\n",
    "subprocess.run(clustalo_cmd, shell=True, check=True)\n",
    "\n",
    "print(\"Stockholm alignment generated successfully!\")\n"
   ]
  },
  {
   "cell_type": "code",
   "execution_count": 2,
   "id": "094afbf7-2940-45ed-aa03-56ed4ac1d088",
   "metadata": {},
   "outputs": [],
   "source": [
    "#Making a HMM model based on that alignment\n",
    "  #hmmbuild [-options] <hmmfile_out> <msafile>\n",
    "\n",
    "alignment = os.path.join(output_dir_p, '240220_LauraLipasesAlign.sto')\n",
    "#alignment = os.path.join(output_dir_p, 'output.stockholm')\n",
    "# Defining HMM and target to analyse\n",
    "\n",
    "outputhmm = os.path.join(output_dir_p, 'Lipase.hmm')\n",
    "#Target = outputFA_file\n",
    "\n",
    "commandalign = ['hmmbuild', outputhmm, alignment]\n",
    "\n",
    "try:\n",
    "    # run the command and capture the output\n",
    "    processalign = subprocess.Popen(commandalign, stdout=subprocess.PIPE, stderr=subprocess.PIPE)\n",
    "    stdout, stderr = processalign.communicate()\n",
    "    if stderr:\n",
    "        print(\"Error:\", stderr.decode())\n",
    "except Exception as e:\n",
    "    print(\"An error occurred:\", e)"
   ]
  },
  {
   "cell_type": "code",
   "execution_count": null,
   "id": "340b53ab",
   "metadata": {},
   "outputs": [],
   "source": []
  }
 ],
 "metadata": {
  "kernelspec": {
   "display_name": "Python 3 (ipykernel)",
   "language": "python",
   "name": "python3"
  },
  "language_info": {
   "codemirror_mode": {
    "name": "ipython",
    "version": 3
   },
   "file_extension": ".py",
   "mimetype": "text/x-python",
   "name": "python",
   "nbconvert_exporter": "python",
   "pygments_lexer": "ipython3",
   "version": "3.10.12"
  }
 },
 "nbformat": 4,
 "nbformat_minor": 5
}
